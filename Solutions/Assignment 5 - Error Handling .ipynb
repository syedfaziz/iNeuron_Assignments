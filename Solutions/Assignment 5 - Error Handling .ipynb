{
 "cells": [
  {
   "cell_type": "markdown",
   "metadata": {},
   "source": [
    "# Assignment 5 - Error Handling \n",
    "## By - Syed Furquan Aziz\n",
    "\n",
    "### Questions\n",
    "\n",
    "#### 2.Problem Statement\n",
    "\n",
    "    1. Write a function to compute 5/0 and use try/except to catch the exceptions.\n",
    "\n",
    "\n",
    "    2. Implement a Python program to generate all sentences where subject is in \n",
    "    [\"Americans\", \"Indians\"] and verb is in [\"Play\", \"watch\"] and the object is in\n",
    "    [\"Baseball\",\"cricket\"].\n",
    "    \n",
    "    Hint: Subject,Verb and Object should be declared in the program as shown below.\n",
    "    \n",
    "    subjects=[\"Americans \",\"Indians\"]    \n",
    "    verbs=[\"play\",\"watch\"]    \n",
    "    objects=[\"Baseball\",\"Cricket\"]\n",
    "    \n",
    "    Output should come as below:\n",
    "    \n",
    "    Americans play Baseball.    \n",
    "    Americans play Cricket.    \n",
    "    Americans watch Baseball.    \n",
    "    Americans watch Cricket.    \n",
    "    Indians play Baseball.    \n",
    "    Indians play Cricket.    \n",
    "    Indians watch Baseball.    \n",
    "    Indians watch Cricket.\n",
    "    "
   ]
  },
  {
   "cell_type": "markdown",
   "metadata": {},
   "source": [
    "##   "
   ]
  },
  {
   "cell_type": "markdown",
   "metadata": {},
   "source": [
    "## Solution 1"
   ]
  },
  {
   "cell_type": "code",
   "execution_count": 10,
   "metadata": {},
   "outputs": [],
   "source": [
    "def func_error_handle():\n",
    "    try:   # trying to divide by zero\n",
    "        5/0\n",
    "    except Exception as e:  # catching the error\n",
    "        return(e)"
   ]
  },
  {
   "cell_type": "code",
   "execution_count": 11,
   "metadata": {},
   "outputs": [
    {
     "data": {
      "text/plain": [
       "ZeroDivisionError('division by zero')"
      ]
     },
     "execution_count": 11,
     "metadata": {},
     "output_type": "execute_result"
    }
   ],
   "source": [
    "func_error_handle()"
   ]
  },
  {
   "cell_type": "markdown",
   "metadata": {},
   "source": [
    "##   "
   ]
  },
  {
   "cell_type": "markdown",
   "metadata": {},
   "source": [
    "## Solution 2"
   ]
  },
  {
   "cell_type": "code",
   "execution_count": 6,
   "metadata": {},
   "outputs": [
    {
     "name": "stdout",
     "output_type": "stream",
     "text": [
      "Americans  play Baseball.\n",
      "Americans  play Cricket.\n",
      "Americans  watch Baseball.\n",
      "Americans  watch Cricket.\n",
      "Indians play Baseball.\n",
      "Indians play Cricket.\n",
      "Indians watch Baseball.\n",
      "Indians watch Cricket.\n"
     ]
    }
   ],
   "source": [
    "subjects=[\"Americans \",\"Indians\"]    \n",
    "verbs=[\"play\",\"watch\"]    \n",
    "objects=[\"Baseball\",\"Cricket\"]\n",
    "\n",
    "for subject in subjects:\n",
    "    for verb in verbs:\n",
    "        for obj in objects:\n",
    "            print(subject+' '+verb+' '+obj+'.')"
   ]
  }
 ],
 "metadata": {
  "kernelspec": {
   "display_name": "Python 3",
   "language": "python",
   "name": "python3"
  },
  "language_info": {
   "codemirror_mode": {
    "name": "ipython",
    "version": 3
   },
   "file_extension": ".py",
   "mimetype": "text/x-python",
   "name": "python",
   "nbconvert_exporter": "python",
   "pygments_lexer": "ipython3",
   "version": "3.6.4"
  }
 },
 "nbformat": 4,
 "nbformat_minor": 2
}
