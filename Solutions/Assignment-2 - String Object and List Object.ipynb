{
 "cells": [
  {
   "cell_type": "markdown",
   "metadata": {},
   "source": [
    "# Assignment-2 - String Object and List Object"
   ]
  },
  {
   "cell_type": "markdown",
   "metadata": {},
   "source": [
    "#    "
   ]
  },
  {
   "cell_type": "markdown",
   "metadata": {},
   "source": [
    "### Question 1"
   ]
  },
  {
   "cell_type": "code",
   "execution_count": 49,
   "metadata": {},
   "outputs": [
    {
     "name": "stdout",
     "output_type": "stream",
     "text": [
      "*\n",
      "**\n",
      "***\n",
      "****\n",
      "*****\n",
      "****\n",
      "***\n",
      "**\n",
      "*\n"
     ]
    }
   ],
   "source": [
    "# Printing the required pattern using the string multiplication\n",
    "for j in range(1,5):\n",
    "    print('*'*j)\n",
    "for j in range(5,0,-1):\n",
    "    print('*'*j)\n",
    "    "
   ]
  },
  {
   "cell_type": "markdown",
   "metadata": {},
   "source": [
    "#  "
   ]
  },
  {
   "cell_type": "markdown",
   "metadata": {},
   "source": [
    "### Question 2"
   ]
  },
  {
   "cell_type": "code",
   "execution_count": 52,
   "metadata": {},
   "outputs": [
    {
     "name": "stdout",
     "output_type": "stream",
     "text": [
      "enter the text that you want to be reversed : \n",
      "Ineuron\n",
      "\n",
      "\n",
      "the word in reversed format is :\n",
      "noruenI\n"
     ]
    }
   ],
   "source": [
    "word = input('enter the text that you want to be reversed : \\n')   # accepting the input form the user\n",
    "word_reversed=''                                                   # declaring variable to hold out the reversed text\n",
    "\n",
    "print('\\n\\nthe word in reversed format is :' )\n",
    "for i in range(len(word)-1,-1,-1):\n",
    "    word_reversed=word_reversed+word[i]\n",
    "    \n",
    "print(word_reversed)                                               # printing the reversed text"
   ]
  },
  {
   "cell_type": "markdown",
   "metadata": {},
   "source": [
    "#  "
   ]
  }
 ],
 "metadata": {
  "kernelspec": {
   "display_name": "Python 3",
   "language": "python",
   "name": "python3"
  },
  "language_info": {
   "codemirror_mode": {
    "name": "ipython",
    "version": 3
   },
   "file_extension": ".py",
   "mimetype": "text/x-python",
   "name": "python",
   "nbconvert_exporter": "python",
   "pygments_lexer": "ipython3",
   "version": "3.6.4"
  }
 },
 "nbformat": 4,
 "nbformat_minor": 2
}
