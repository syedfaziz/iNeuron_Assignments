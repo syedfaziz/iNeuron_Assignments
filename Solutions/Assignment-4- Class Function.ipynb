{
 "cells": [
  {
   "cell_type": "markdown",
   "metadata": {},
   "source": [
    "# Assignment-4\n",
    "\n",
    "##  Problem Statement\n",
    "1.1 Write a Python Program(with class concepts) to find the area of the triangle using the below formula.\n",
    "    area = (s*(s-a)*(s-b)*(s-c)) ** 0.5\n",
    "    Function to take the length of the sides of triangle from user should be defined in the parent\n",
    "    class and function to calculate the area should be defined in subclass.\n",
    "    \n",
    "1.2 Write a function filter_long_words() that takes a list of words and an integer n and returns\n",
    "    the list of words that are longer than n.\n",
    "    \n",
    "2.1 Write a Python program using function concept that maps list of words into a list of integers\n",
    "    representing the lengths of the corresponding words.\n",
    "    Hint: If a list [ ab,cde,erty] is passed on to the python function output should come as [2,3,4]\n",
    "    Here 2,3 and 4 are the lengths of the words in the list.\n",
    "    \n",
    "2.2 Write a Python function which takes a character (i.e. a string of length 1) and returns True if\n",
    "    it is a vowel, False otherwise."
   ]
  },
  {
   "cell_type": "markdown",
   "metadata": {},
   "source": [
    "##  \n",
    "\n",
    "\n"
   ]
  },
  {
   "cell_type": "markdown",
   "metadata": {},
   "source": [
    "### Solution 1.1"
   ]
  },
  {
   "cell_type": "code",
   "execution_count": 1,
   "metadata": {},
   "outputs": [],
   "source": [
    "class Area():\n",
    "    '''\n",
    "    ........................\n",
    "    Arguments:\n",
    "    ........................\n",
    "    Sides of a triangle as --> a,b,c :\n",
    "    \n",
    "    ........................\n",
    "    Returns Value:\n",
    "    ........................\n",
    "    Area of a traingle using the semi-perimeter\n",
    "    \n",
    "    '''\n",
    "    \n",
    "    \n",
    "    def __init__(self, a,b,c):\n",
    "            self.a=a\n",
    "            self.b=b\n",
    "            self.c=c\n",
    "            self.s = (a+b+c)/2\n",
    "            \n",
    "    def FindArea(self):\n",
    "        return (self.s * (self.s - self.a) * (self.s - self.b) * (self.s - self.c))**(0.5)\n",
    "            "
   ]
  },
  {
   "cell_type": "code",
   "execution_count": 23,
   "metadata": {},
   "outputs": [
    {
     "name": "stdout",
     "output_type": "stream",
     "text": [
      "Area of a traingle : 248.54778212649575 unit sq\n"
     ]
    }
   ],
   "source": [
    "A = Area(23,24,25)\n",
    "area = A.FindArea()\n",
    "print('Area of a traingle : {} unit sq'.format(area))"
   ]
  },
  {
   "cell_type": "markdown",
   "metadata": {},
   "source": [
    "##  \n",
    "\n",
    "\n"
   ]
  },
  {
   "cell_type": "markdown",
   "metadata": {},
   "source": [
    "### Solution 1.2"
   ]
  },
  {
   "cell_type": "code",
   "execution_count": 11,
   "metadata": {},
   "outputs": [],
   "source": [
    "def filter_long_words(list_of_words, length):\n",
    "    '''\n",
    "    ---------------------\n",
    "    Parameters:\n",
    "    ------------\n",
    "    list_of_words : list of words \n",
    "    length : length on 'n' integer\n",
    "    \n",
    "    --------------------\n",
    "    Returns:\n",
    "    ---------\n",
    "    list of words that have lenght greater than n\n",
    "    \n",
    "    '''\n",
    "    \n",
    "    list1=[]\n",
    "    for i in range(len(list_of_words)):\n",
    "        if len(list_of_words[i])>length:\n",
    "            list1.append(list_of_words[i])\n",
    "    return(list1)\n",
    "            "
   ]
  },
  {
   "cell_type": "code",
   "execution_count": 14,
   "metadata": {},
   "outputs": [
    {
     "data": {
      "text/plain": [
       "['syed', 'boss', 'Fantastic']"
      ]
     },
     "execution_count": 14,
     "metadata": {},
     "output_type": "execute_result"
    }
   ],
   "source": [
    "filter_long_words(['syed','boss','Fantastic','ddd','eva'],3)"
   ]
  },
  {
   "cell_type": "markdown",
   "metadata": {},
   "source": [
    "##  \n",
    "\n",
    "\n"
   ]
  },
  {
   "cell_type": "markdown",
   "metadata": {},
   "source": [
    "### Solution 2.1"
   ]
  },
  {
   "cell_type": "code",
   "execution_count": 15,
   "metadata": {},
   "outputs": [],
   "source": [
    "def word_length(list_of_words):\n",
    "    '''\n",
    "    ---------------\n",
    "    Parameters:\n",
    "    -------------\n",
    "    list_of_words : list of words \n",
    "        \n",
    "    -------------\n",
    "    Returns:\n",
    "    -----------\n",
    "    Corresponding lengthof words\n",
    "    \n",
    "    '''\n",
    "    \n",
    "    list1=[]\n",
    "    for i in range(len(list_of_words)):\n",
    "        list1.append(len(list_of_words[i]))\n",
    "        \n",
    "    return(list1)"
   ]
  },
  {
   "cell_type": "code",
   "execution_count": 16,
   "metadata": {},
   "outputs": [
    {
     "data": {
      "text/plain": [
       "[4, 4, 9, 3, 3]"
      ]
     },
     "execution_count": 16,
     "metadata": {},
     "output_type": "execute_result"
    }
   ],
   "source": [
    "word_length(['syed','boss','Fantastic','ddd','eva'])"
   ]
  },
  {
   "cell_type": "markdown",
   "metadata": {},
   "source": [
    "##  \n",
    "\n",
    "\n"
   ]
  },
  {
   "cell_type": "markdown",
   "metadata": {},
   "source": [
    "### Solution 2.2\n"
   ]
  },
  {
   "cell_type": "code",
   "execution_count": 17,
   "metadata": {},
   "outputs": [],
   "source": [
    "def check_vowel(character):\n",
    "    '''\n",
    "    ---------------\n",
    "    Parameters:\n",
    "    -------------\n",
    "    character : single letter\n",
    "        \n",
    "    -------------\n",
    "    Returns:\n",
    "    -----------\n",
    "    'True' if vowel, else 'False'\n",
    "    \n",
    "    '''\n",
    "    \n",
    "    if character in ['A','E','I','O','U','a','e','i','o','u']:\n",
    "        return(True)\n",
    "    else:\n",
    "        return(False)"
   ]
  },
  {
   "cell_type": "code",
   "execution_count": 20,
   "metadata": {},
   "outputs": [
    {
     "data": {
      "text/plain": [
       "False"
      ]
     },
     "execution_count": 20,
     "metadata": {},
     "output_type": "execute_result"
    }
   ],
   "source": [
    "check_vowel('p')"
   ]
  }
 ],
 "metadata": {
  "kernelspec": {
   "display_name": "Python 3",
   "language": "python",
   "name": "python3"
  },
  "language_info": {
   "codemirror_mode": {
    "name": "ipython",
    "version": 3
   },
   "file_extension": ".py",
   "mimetype": "text/x-python",
   "name": "python",
   "nbconvert_exporter": "python",
   "pygments_lexer": "ipython3",
   "version": "3.6.4"
  }
 },
 "nbformat": 4,
 "nbformat_minor": 2
}
